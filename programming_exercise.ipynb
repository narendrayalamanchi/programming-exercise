{
 "cells": [
  {
   "cell_type": "code",
   "execution_count": 99,
   "metadata": {},
   "outputs": [],
   "source": [
    "import json\n",
    "from datetime import datetime,timedelta\n",
    "import calendar"
   ]
  },
  {
   "cell_type": "code",
   "execution_count": 100,
   "metadata": {},
   "outputs": [],
   "source": [
    "# Opening JSON file\n",
    "f = open('trainings.txt')\n",
    "data = json.load(f)\n",
    "f.close()"
   ]
  },
  {
   "cell_type": "code",
   "execution_count": 101,
   "metadata": {},
   "outputs": [],
   "source": [
    "# Function to get the most recent completion for each training\n",
    "def get_most_recent_completions(completions):\n",
    "    most_recent = {}\n",
    "    for training in completions:\n",
    "        date = datetime.strptime(training[\"timestamp\"], \"%m/%d/%Y\")\n",
    "        if training[\"name\"] not in most_recent or date > most_recent[training[\"name\"]][\"timestamp\"]:\n",
    "            most_recent[training[\"name\"]] = {\"timestamp\": date, \"expires\": training.get(\"expires\")}\n",
    "    return most_recent"
   ]
  },
  {
   "cell_type": "code",
   "execution_count": 102,
   "metadata": {},
   "outputs": [],
   "source": [
    "# Task 1\n",
    "# List each completed training with a count of how many people have completed that training.\n",
    "complted_count = {}\n",
    "for people in data:\n",
    "    recent_completions = get_most_recent_completions(people[\"completions\"])\n",
    "    for trainings in recent_completions:\n",
    "        complted_count[trainings] = complted_count.get(trainings, 0) + 1\n",
    "            \n",
    "cn_to_json = json.dumps(complted_count, indent=4)\n",
    " \n",
    "with open(\"completed_training_count.json\", \"w\") as outfile:\n",
    "    outfile.write(cn_to_json)"
   ]
  },
  {
   "cell_type": "code",
   "execution_count": 103,
   "metadata": {},
   "outputs": [],
   "source": [
    "# Task 2\n",
    "# Listing all people that completed that training in the specified fiscal year (2024).\n",
    "# With Trainings = \"Electrical Safety for Labs\", \"X-Ray Safety\", \"Laboratory Safety Training\n",
    "def list_people(training_list,fiscal_year):\n",
    "    training_completed_list = {training: [] for training in training_list}\n",
    "\n",
    "    start_date = datetime(fiscal_year-1, 7, 1)\n",
    "    end_date = datetime(fiscal_year, 6, 30)\n",
    "    \n",
    "    for people in data:\n",
    "        recent_completions = get_most_recent_completions(people[\"completions\"])\n",
    "        for trainings in recent_completions:\n",
    "            if trainings in training_list and start_date <= recent_completions[trainings][\"timestamp\"] <= end_date:\n",
    "                training_completed_list[trainings].append(people[\"name\"])\n",
    "                   \n",
    "    cn_to_json = json.dumps(training_completed_list, indent=4)\n",
    "\n",
    "    with open(\"training_list.json\", \"w\") as outfile:\n",
    "        outfile.write(cn_to_json)\n",
    "        \n",
    "\n",
    "training_list = [\"Electrical Safety for Labs\", \"X-Ray Safety\", \"Laboratory Safety Training\"]\n",
    "fiscal_year = 2024\n",
    "list_people(training_list,fiscal_year)"
   ]
  },
  {
   "cell_type": "code",
   "execution_count": 104,
   "metadata": {},
   "outputs": [],
   "source": [
    "# Task 3\n",
    "# Find all people that have any completed trainings that have already expired, or will expire within one month\n",
    "from operator import itemgetter\n",
    "def find_trainingexpired_people(givendate):\n",
    "    givendate_obj = datetime.strptime(givendate, \"%m/%d/%Y\")\n",
    "    training_expiry_list = {}\n",
    "    for people in data:\n",
    "        recent_completions = get_most_recent_completions(people[\"completions\"])\n",
    "        for trainings in recent_completions:\n",
    "            if recent_completions[trainings][\"expires\"] is not None:\n",
    "                expiresdate_obj = datetime.strptime(recent_completions[trainings][\"expires\"], \"%m/%d/%Y\")\n",
    "                days_in_month = calendar.monthrange(givendate_obj.year, givendate_obj.month)[1]\n",
    "               \n",
    "                if givendate_obj >= expiresdate_obj:\n",
    "                    training_expiry_list.setdefault(people[\"name\"], []).append({\"training_name\":trainings,\"expires\":\"Expired\"})\n",
    "                elif (givendate_obj + timedelta(days=days_in_month)) >= expiresdate_obj: # next one month which expires soon \n",
    "                    training_expiry_list.setdefault(people[\"name\"], []).append({\"training_name\":trainings,\"expires\":\"expires soon\"})\n",
    "                   \n",
    "    cn_to_json = json.dumps(training_expiry_list, indent=4)\n",
    "\n",
    "    with open(\"training_expiry_list.json\", \"w\") as outfile:\n",
    "        outfile.write(cn_to_json)          \n",
    "    \n",
    "# Given data Oct 1st, 2023\n",
    "givendate = \"10/1/2023\"\n",
    "find_trainingexpired_people(givendate)"
   ]
  }
 ],
 "metadata": {
  "kernelspec": {
   "display_name": "Python 3",
   "language": "python",
   "name": "python3"
  },
  "language_info": {
   "codemirror_mode": {
    "name": "ipython",
    "version": 3
   },
   "file_extension": ".py",
   "mimetype": "text/x-python",
   "name": "python",
   "nbconvert_exporter": "python",
   "pygments_lexer": "ipython3",
   "version": "3.7.4"
  }
 },
 "nbformat": 4,
 "nbformat_minor": 2
}
