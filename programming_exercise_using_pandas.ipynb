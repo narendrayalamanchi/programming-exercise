{
 "cells": [
  {
   "cell_type": "code",
   "execution_count": 170,
   "metadata": {},
   "outputs": [],
   "source": [
    "import json\n",
    "import pandas as pd\n",
    "import numpy as np"
   ]
  },
  {
   "cell_type": "code",
   "execution_count": 171,
   "metadata": {},
   "outputs": [],
   "source": [
    "f = open('trainings.txt')\n",
    "data = json.load(f)"
   ]
  },
  {
   "cell_type": "code",
   "execution_count": 172,
   "metadata": {},
   "outputs": [
    {
     "name": "stdout",
     "output_type": "stream",
     "text": [
      "1000 2967\n"
     ]
    }
   ],
   "source": [
    "# Checking whether data frame and normal count is of same size\n",
    "count = 0\n",
    "for i in data:\n",
    "    count+= len(i['completions'])\n",
    "print(len(data), count)"
   ]
  },
  {
   "cell_type": "code",
   "execution_count": 173,
   "metadata": {},
   "outputs": [
    {
     "data": {
      "text/html": [
       "<div>\n",
       "<style scoped>\n",
       "    .dataframe tbody tr th:only-of-type {\n",
       "        vertical-align: middle;\n",
       "    }\n",
       "\n",
       "    .dataframe tbody tr th {\n",
       "        vertical-align: top;\n",
       "    }\n",
       "\n",
       "    .dataframe thead th {\n",
       "        text-align: right;\n",
       "    }\n",
       "</style>\n",
       "<table border=\"1\" class=\"dataframe\">\n",
       "  <thead>\n",
       "    <tr style=\"text-align: right;\">\n",
       "      <th></th>\n",
       "      <th>name_student</th>\n",
       "      <th>name_course</th>\n",
       "      <th>timestamp</th>\n",
       "      <th>expires</th>\n",
       "    </tr>\n",
       "  </thead>\n",
       "  <tbody>\n",
       "    <tr>\n",
       "      <th>0</th>\n",
       "      <td>Jaelyn Quinn</td>\n",
       "      <td>Electrical Safety for Labs</td>\n",
       "      <td>2022-08-31</td>\n",
       "      <td>NaT</td>\n",
       "    </tr>\n",
       "    <tr>\n",
       "      <th>1</th>\n",
       "      <td>Jaelyn Quinn</td>\n",
       "      <td>Safe Handling of Human Cell Lines/Materials in...</td>\n",
       "      <td>2023-10-30</td>\n",
       "      <td>NaT</td>\n",
       "    </tr>\n",
       "    <tr>\n",
       "      <th>2</th>\n",
       "      <td>Jaelyn Quinn</td>\n",
       "      <td>Awareness Training for the Transport of Hazard...</td>\n",
       "      <td>2023-10-05</td>\n",
       "      <td>NaT</td>\n",
       "    </tr>\n",
       "    <tr>\n",
       "      <th>3</th>\n",
       "      <td>Jaelyn Quinn</td>\n",
       "      <td>X-Ray Safety</td>\n",
       "      <td>2023-04-08</td>\n",
       "      <td>NaT</td>\n",
       "    </tr>\n",
       "    <tr>\n",
       "      <th>4</th>\n",
       "      <td>Asia Duke</td>\n",
       "      <td>X-Ray Safety</td>\n",
       "      <td>2022-09-01</td>\n",
       "      <td>NaT</td>\n",
       "    </tr>\n",
       "    <tr>\n",
       "      <th>...</th>\n",
       "      <td>...</td>\n",
       "      <td>...</td>\n",
       "      <td>...</td>\n",
       "      <td>...</td>\n",
       "    </tr>\n",
       "    <tr>\n",
       "      <th>2962</th>\n",
       "      <td>Jadon Harrell</td>\n",
       "      <td>Physical Science Responsible Conduct of Resear...</td>\n",
       "      <td>2023-06-10</td>\n",
       "      <td>NaT</td>\n",
       "    </tr>\n",
       "    <tr>\n",
       "      <th>2963</th>\n",
       "      <td>Jadon Harrell</td>\n",
       "      <td>Animal Care And Use Risk Assessment</td>\n",
       "      <td>2023-08-22</td>\n",
       "      <td>2024-08-21</td>\n",
       "    </tr>\n",
       "    <tr>\n",
       "      <th>2964</th>\n",
       "      <td>Jadon Harrell</td>\n",
       "      <td>OHS Training</td>\n",
       "      <td>2022-03-14</td>\n",
       "      <td>2023-03-14</td>\n",
       "    </tr>\n",
       "    <tr>\n",
       "      <th>2965</th>\n",
       "      <td>Jadon Harrell</td>\n",
       "      <td>Occupational Exposure to Bloodborne Pathogens</td>\n",
       "      <td>2022-11-03</td>\n",
       "      <td>2023-11-03</td>\n",
       "    </tr>\n",
       "    <tr>\n",
       "      <th>2966</th>\n",
       "      <td>Jadon Harrell</td>\n",
       "      <td>Occupational Exposure to Bloodborne Pathogens</td>\n",
       "      <td>2022-02-05</td>\n",
       "      <td>NaT</td>\n",
       "    </tr>\n",
       "  </tbody>\n",
       "</table>\n",
       "<p>2967 rows × 4 columns</p>\n",
       "</div>"
      ],
      "text/plain": [
       "       name_student                                        name_course  \\\n",
       "0      Jaelyn Quinn                         Electrical Safety for Labs   \n",
       "1      Jaelyn Quinn  Safe Handling of Human Cell Lines/Materials in...   \n",
       "2      Jaelyn Quinn  Awareness Training for the Transport of Hazard...   \n",
       "3      Jaelyn Quinn                                       X-Ray Safety   \n",
       "4         Asia Duke                                       X-Ray Safety   \n",
       "...             ...                                                ...   \n",
       "2962  Jadon Harrell  Physical Science Responsible Conduct of Resear...   \n",
       "2963  Jadon Harrell                Animal Care And Use Risk Assessment   \n",
       "2964  Jadon Harrell                                       OHS Training   \n",
       "2965  Jadon Harrell      Occupational Exposure to Bloodborne Pathogens   \n",
       "2966  Jadon Harrell      Occupational Exposure to Bloodborne Pathogens   \n",
       "\n",
       "      timestamp    expires  \n",
       "0    2022-08-31        NaT  \n",
       "1    2023-10-30        NaT  \n",
       "2    2023-10-05        NaT  \n",
       "3    2023-04-08        NaT  \n",
       "4    2022-09-01        NaT  \n",
       "...         ...        ...  \n",
       "2962 2023-06-10        NaT  \n",
       "2963 2023-08-22 2024-08-21  \n",
       "2964 2022-03-14 2023-03-14  \n",
       "2965 2022-11-03 2023-11-03  \n",
       "2966 2022-02-05        NaT  \n",
       "\n",
       "[2967 rows x 4 columns]"
      ]
     },
     "execution_count": 173,
     "metadata": {},
     "output_type": "execute_result"
    }
   ],
   "source": [
    "df_data = []\n",
    "for record in data:\n",
    "    for sub_record in record['completions']:\n",
    "        df_data.append({\n",
    "            'name_student': record['name'],\n",
    "            'name_course': sub_record['name'],\n",
    "            'timestamp': sub_record['timestamp'],\n",
    "            'expires': sub_record['expires']\n",
    "        })\n",
    "df_data = pd.DataFrame(df_data)\n",
    "df_data['timestamp'] = pd.to_datetime(df_data['timestamp'], format = '%m/%d/%Y')\n",
    "df_data['expires'] = pd.to_datetime(df_data['expires'], format = '%m/%d/%Y')\n",
    "\n",
    "df_data"
   ]
  },
  {
   "cell_type": "code",
   "execution_count": 174,
   "metadata": {},
   "outputs": [],
   "source": [
    "# Removing duplicates of training and placing only the training that is most recent.\n",
    "df_data = df_data.sort_values('timestamp', ascending=False).drop_duplicates(['name_student', 'name_course'])"
   ]
  },
  {
   "cell_type": "code",
   "execution_count": 175,
   "metadata": {},
   "outputs": [
    {
     "data": {
      "text/plain": [
       "'{\"Animal Care And Use Risk Assessment\":99,\"Awareness Training for the Transport of Hazardous Material\":110,\"Basic Training Program for Animal Users\":113,\"Chemical Waste Requirements\":111,\"DOT Hazard Material Awareness\":116,\"Electrical Safety for Labs\":118,\"Federally Required RCR Training - Must be delivered by PI (Not available online)\":114,\"Health Screening Questionnaire\":114,\"IRB Quiz\":99,\"Laboratory Safety Training\":113,\"Medical Records\":104,\"NIH Guidelines Overview\":94,\"OHS Training\":116,\"Occupational Exposure to Bloodborne Pathogens\":102,\"Physical Science Responsible Conduct of Research Course 1.\":111,\"Radiation Safety Annual Refresher\":121,\"Radioactive Materials Safety Training\":121,\"Retraining in working with the IACUC\":114,\"Safe Handling of Human Cell Lines\\\\/Materials in a Research Laboratory\":99,\"Safety Practices and Procedures to Prevent Zoonotic Diseases While Working With Cattle\":114,\"Transportation of Infectious Substances, Category B\":107,\"Understanding Biosafety\":123,\"Using Hazardous Chemicals in an Animal Care Facility\":115,\"Working in Cold Temperatures\":110,\"X-Ray Safety\":118}'"
      ]
     },
     "execution_count": 175,
     "metadata": {},
     "output_type": "execute_result"
    }
   ],
   "source": [
    "# Task 1\n",
    "# List each completed training with a count of how many people have completed that training.\n",
    "count_courses = df_data.groupby('name_course')['name_student'].nunique()\n",
    "count_courses.to_json('completed_training_count1.json', indent=4)\n",
    "count_courses.to_json()"
   ]
  },
  {
   "cell_type": "code",
   "execution_count": 176,
   "metadata": {},
   "outputs": [],
   "source": [
    "# Task 2\n",
    "# Listing all people that completed that training in the specified fiscal year (2024).\n",
    "# With Trainings = \"Electrical Safety for Labs\", \"X-Ray Safety\", \"Laboratory Safety Training\n",
    "\n",
    "def fiscal_year(df,trainings,fiscal_year):\n",
    "    fiscal_year_start = pd.Timestamp(year=fiscal_year - 1, month=7, day=1)\n",
    "    fiscal_year_end = pd.Timestamp(year=fiscal_year, month=6, day=30)\n",
    "\n",
    "    # Filter the DataFrame\n",
    "    filtered_df = df[(df['name_course'].isin(trainings)) & \n",
    "                     (df['timestamp'] >= fiscal_year_start) & \n",
    "                     (df['timestamp'] <= fiscal_year_end)]\n",
    "\n",
    "    # Group by 'name_course' and list all 'name_student'\n",
    "    result = filtered_df.groupby('name_course')['name_student'].apply(list)\n",
    "    result.to_json('training_list1.json', indent=4)\n",
    "   \n",
    "    return result.to_json()"
   ]
  },
  {
   "cell_type": "code",
   "execution_count": 177,
   "metadata": {
    "scrolled": true
   },
   "outputs": [
    {
     "data": {
      "text/plain": [
       "'{\"Electrical Safety for Labs\":[\"Teresa Esparza\",\"Leandro Krause\",\"Desiree Potts\",\"Zavier Maldonado\",\"Calvin Rubio\",\"Brogan Stein\",\"Antwan Villanueva\",\"Lexie Ho\",\"Sandra Manning\",\"Gerald Parsons\",\"Jamison Lawson\",\"Humberto Huerta\",\"Reed Ramos\",\"Allie Barnes\",\"Kierra Grimes\",\"Martin Dean\",\"Armani Tapia\",\"Audrina Eaton\",\"Charity Lucas\"],\"Laboratory Safety Training\":[\"Travis Grant\",\"Makenzie Pollard\",\"Skye Valenzuela\",\"Lawson Quinn\",\"Annabella Jacobson\",\"Karli Craig\",\"Ariella David\",\"Dawson Compton\",\"Conner Warner\",\"Nayeli Mckenzie\",\"Vaughn Mcmillan\",\"Zane Mcgrath\",\"Dania Parrish\",\"Matias Oconnell\",\"Roy Robbins\",\"Noah Burch\",\"Eden Nash\",\"Kaitlyn Orozco\",\"Niko Frey\",\"Sasha Armstrong\"],\"X-Ray Safety\":[\"Hadassah Hampton\",\"Anabelle Braun\",\"Ann Knight\",\"Blaze Joyce\",\"Gloria Mccarty\",\"Mitchell Ware\",\"Antwan Villanueva\",\"Jagger Hoffman\",\"Rayan Valencia\",\"Noemi Cisneros\",\"Soren Chaney\",\"Cloe Williamson\",\"Nayeli Ortiz\",\"Ezra Powers\",\"Ainsley Drake\",\"Destinee Odonnell\",\"Irvin Estrada\",\"Brynn Marks\",\"Misael Becker\",\"Reese Raymond\",\"Asia Duke\"]}'"
      ]
     },
     "execution_count": 177,
     "metadata": {},
     "output_type": "execute_result"
    }
   ],
   "source": [
    "trainings_list = [\"Electrical Safety for Labs\", \"X-Ray Safety\", \"Laboratory Safety Training\"]\n",
    "fiscal_year(df_data,trainings_list, 2024)"
   ]
  },
  {
   "cell_type": "code",
   "execution_count": 178,
   "metadata": {},
   "outputs": [],
   "source": [
    "# Task 3\n",
    "# Find all people that have any completed trainings that have already expired, or will expire within one month\n",
    "def find_expiring_trainings(df, user_date):\n",
    "    # Convert 'expires' to datetime if it's not already\n",
    "    df['expires'] = pd.to_datetime(df['expires'])\n",
    "\n",
    "    # Convert user_date to datetime\n",
    "    specified_date = pd.to_datetime(user_date)\n",
    "\n",
    "    # Calculate expiration status\n",
    "    df['status'] = df['expires'].apply(\n",
    "        lambda x: 'expired' if x <= specified_date else (\n",
    "            'expires soon' if x <= specified_date + pd.DateOffset(months=1) else 'valid'\n",
    "        )\n",
    "    )\n",
    "\n",
    "    # Filter to include only expired or expires soon\n",
    "    df_filtered = df[df['status'].isin(['expired', 'expires soon'])]\n",
    "\n",
    "    # Group by 'name_student' and list all 'name_course' and their 'status'\n",
    "    result = df_filtered.groupby('name_student').apply(\n",
    "        lambda x: x[['name_course', 'status']].to_dict('records')\n",
    "    )\n",
    "    result.to_json('training_expiry_list1.json', indent=4)\n",
    "    return result.to_json()"
   ]
  },
  {
   "cell_type": "code",
   "execution_count": 179,
   "metadata": {},
   "outputs": [
    {
     "data": {
      "text/plain": [
       "'{\"Abraham Mendoza\":[{\"name_course\":\"Medical Records\",\"status\":\"expires soon\"}],\"Adalynn Dunlap\":[{\"name_course\":\"Transportation of Infectious Substances, Category B\",\"status\":\"expired\"}],\"Adan Lowery\":[{\"name_course\":\"Medical Records\",\"status\":\"expired\"}],\"Adan Salazar\":[{\"name_course\":\"Radioactive Materials Safety Training\",\"status\":\"expired\"}],\"Adison Brewer\":[{\"name_course\":\"Retraining in working with the IACUC\",\"status\":\"expired\"}],\"Aditya Alvarez\":[{\"name_course\":\"Occupational Exposure to Bloodborne Pathogens\",\"status\":\"expired\"}],\"Adriana Figueroa\":[{\"name_course\":\"Safety Practices and Procedures to Prevent Zoonotic Diseases While Working With Cattle\",\"status\":\"expired\"},{\"name_course\":\"Radioactive Materials Safety Training\",\"status\":\"expired\"}],\"Adrienne Yates\":[{\"name_course\":\"Transportation of Infectious Substances, Category B\",\"status\":\"expired\"}],\"Aiyana Stone\":[{\"name_course\":\"Health Screening Questionnaire\",\"status\":\"expired\"}],\"Alannah Booth\":[{\"name_course\":\"Using Hazardous Chemicals in an Animal Care Facility\",\"status\":\"expires soon\"},{\"name_course\":\"IRB Quiz\",\"status\":\"expired\"}],\"Albert Rogers\":[{\"name_course\":\"Laboratory Safety Training\",\"status\":\"expired\"}],\"Alberto Everett\":[{\"name_course\":\"Laboratory Safety Training\",\"status\":\"expired\"}],\"Alejandro Cantrell\":[{\"name_course\":\"X-Ray Safety\",\"status\":\"expired\"}],\"Alexandra Schneider\":[{\"name_course\":\"OHS Training\",\"status\":\"expired\"},{\"name_course\":\"Awareness Training for the Transport of Hazardous Material\",\"status\":\"expired\"}],\"Alicia Mays\":[{\"name_course\":\"OHS Training\",\"status\":\"expired\"},{\"name_course\":\"Transportation of Infectious Substances, Category B\",\"status\":\"expired\"}],\"Alina Barry\":[{\"name_course\":\"X-Ray Safety\",\"status\":\"expired\"},{\"name_course\":\"Electrical Safety for Labs\",\"status\":\"expired\"}],\"Aliya Chan\":[{\"name_course\":\"Radiation Safety Annual Refresher\",\"status\":\"expired\"}],\"Alma Parks\":[{\"name_course\":\"Occupational Exposure to Bloodborne Pathogens\",\"status\":\"expired\"}],\"Alonzo Delacruz\":[{\"name_course\":\"Using Hazardous Chemicals in an Animal Care Facility\",\"status\":\"expired\"}],\"Amari Oconnor\":[{\"name_course\":\"Transportation of Infectious Substances, Category B\",\"status\":\"expired\"}],\"Amira Oneal\":[{\"name_course\":\"Retraining in working with the IACUC\",\"status\":\"expired\"}],\"Anahi Golden\":[{\"name_course\":\"Using Hazardous Chemicals in an Animal Care Facility\",\"status\":\"expired\"}],\"Anastasia Mcknight\":[{\"name_course\":\"Basic Training Program for Animal Users\",\"status\":\"expired\"}],\"Andreas Hoover\":[{\"name_course\":\"Understanding Biosafety\",\"status\":\"expired\"}],\"Angel Hill\":[{\"name_course\":\"Retraining in working with the IACUC\",\"status\":\"expired\"},{\"name_course\":\"DOT Hazard Material Awareness\",\"status\":\"expired\"}],\"Angela Collier\":[{\"name_course\":\"Transportation of Infectious Substances, Category B\",\"status\":\"expired\"}],\"Angelique Goodman\":[{\"name_course\":\"Federally Required RCR Training - Must be delivered by PI (Not available online)\",\"status\":\"expired\"}],\"Angelo Rivers\":[{\"name_course\":\"Understanding Biosafety\",\"status\":\"expired\"}],\"Ann Knight\":[{\"name_course\":\"Chemical Waste Requirements\",\"status\":\"expired\"}],\"Ann Prince\":[{\"name_course\":\"Animal Care And Use Risk Assessment\",\"status\":\"expired\"}],\"Annika Snyder\":[{\"name_course\":\"Physical Science Responsible Conduct of Research Course 1.\",\"status\":\"expired\"}],\"Antoine Rhodes\":[{\"name_course\":\"Chemical Waste Requirements\",\"status\":\"expires soon\"}],\"Ari Jimenez\":[{\"name_course\":\"Safety Practices and Procedures to Prevent Zoonotic Diseases While Working With Cattle\",\"status\":\"expired\"}],\"Arianna Esparza\":[{\"name_course\":\"Radiation Safety Annual Refresher\",\"status\":\"expired\"}],\"Arielle Dunn\":[{\"name_course\":\"Physical Science Responsible Conduct of Research Course 1.\",\"status\":\"expired\"}],\"Arnav Meza\":[{\"name_course\":\"Electrical Safety for Labs\",\"status\":\"expires soon\"}],\"Aubree Gutierrez\":[{\"name_course\":\"Animal Care And Use Risk Assessment\",\"status\":\"expired\"}],\"Audrina Eaton\":[{\"name_course\":\"Chemical Waste Requirements\",\"status\":\"expires soon\"}],\"Audrina Valencia\":[{\"name_course\":\"X-Ray Safety\",\"status\":\"expired\"}],\"Bailey Barrera\":[{\"name_course\":\"Working in Cold Temperatures\",\"status\":\"expired\"}],\"Barbara Mclaughlin\":[{\"name_course\":\"Basic Training Program for Animal Users\",\"status\":\"expired\"}],\"Barrett Hicks\":[{\"name_course\":\"Radiation Safety Annual Refresher\",\"status\":\"expires soon\"}],\"Belinda Fowler\":[{\"name_course\":\"Retraining in working with the IACUC\",\"status\":\"expired\"}],\"Bennett Townsend\":[{\"name_course\":\"Radiation Safety Annual Refresher\",\"status\":\"expired\"}],\"Braylon Trevino\":[{\"name_course\":\"Chemical Waste Requirements\",\"status\":\"expired\"}],\"Brenna Kidd\":[{\"name_course\":\"Awareness Training for the Transport of Hazardous Material\",\"status\":\"expired\"}],\"Brennen Howell\":[{\"name_course\":\"Animal Care And Use Risk Assessment\",\"status\":\"expired\"}],\"Bridget Bray\":[{\"name_course\":\"Laboratory Safety Training\",\"status\":\"expired\"}],\"Britney Hopkins\":[{\"name_course\":\"Using Hazardous Chemicals in an Animal Care Facility\",\"status\":\"expired\"}],\"Brodie Foster\":[{\"name_course\":\"Physical Science Responsible Conduct of Research Course 1.\",\"status\":\"expired\"},{\"name_course\":\"DOT Hazard Material Awareness\",\"status\":\"expired\"}],\"Brogan Dorsey\":[{\"name_course\":\"Radiation Safety Annual Refresher\",\"status\":\"expired\"}],\"Bruno Navarro\":[{\"name_course\":\"Federally Required RCR Training - Must be delivered by PI (Not available online)\",\"status\":\"expires soon\"}],\"Bryan Cross\":[{\"name_course\":\"Retraining in working with the IACUC\",\"status\":\"expired\"},{\"name_course\":\"Radiation Safety Annual Refresher\",\"status\":\"expired\"}],\"Brynlee Walker\":[{\"name_course\":\"Laboratory Safety Training\",\"status\":\"expired\"}],\"Cailyn Morrow\":[{\"name_course\":\"Using Hazardous Chemicals in an Animal Care Facility\",\"status\":\"expired\"}],\"Callum Sawyer\":[{\"name_course\":\"Physical Science Responsible Conduct of Research Course 1.\",\"status\":\"expired\"}],\"Camden Ho\":[{\"name_course\":\"Working in Cold Temperatures\",\"status\":\"expired\"}],\"Cameron Moody\":[{\"name_course\":\"DOT Hazard Material Awareness\",\"status\":\"expired\"}],\"Carl Riley\":[{\"name_course\":\"Retraining in working with the IACUC\",\"status\":\"expired\"}],\"Carson Blackburn\":[{\"name_course\":\"DOT Hazard Material Awareness\",\"status\":\"expired\"}],\"Cassidy Rowe\":[{\"name_course\":\"Electrical Safety for Labs\",\"status\":\"expired\"}],\"Caylee Hatfield\":[{\"name_course\":\"Federally Required RCR Training - Must be delivered by PI (Not available online)\",\"status\":\"expired\"},{\"name_course\":\"Medical Records\",\"status\":\"expired\"}],\"Charlee Acevedo\":[{\"name_course\":\"Laboratory Safety Training\",\"status\":\"expired\"}],\"Chaya Reynolds\":[{\"name_course\":\"Retraining in working with the IACUC\",\"status\":\"expires soon\"},{\"name_course\":\"Medical Records\",\"status\":\"expired\"}],\"Chloe Vargas\":[{\"name_course\":\"Retraining in working with the IACUC\",\"status\":\"expired\"}],\"Claire Montes\":[{\"name_course\":\"Physical Science Responsible Conduct of Research Course 1.\",\"status\":\"expired\"}],\"Clarence Moran\":[{\"name_course\":\"Chemical Waste Requirements\",\"status\":\"expired\"},{\"name_course\":\"Radioactive Materials Safety Training\",\"status\":\"expired\"}],\"Clay Estrada\":[{\"name_course\":\"Retraining in working with the IACUC\",\"status\":\"expired\"}],\"Cody Day\":[{\"name_course\":\"Electrical Safety for Labs\",\"status\":\"expired\"}],\"Colby Trevino\":[{\"name_course\":\"OHS Training\",\"status\":\"expires soon\"},{\"name_course\":\"Awareness Training for the Transport of Hazardous Material\",\"status\":\"expired\"}],\"Conner Warner\":[{\"name_course\":\"NIH Guidelines Overview\",\"status\":\"expired\"}],\"Crystal Middleton\":[{\"name_course\":\"OHS Training\",\"status\":\"expired\"}],\"Dahlia Werner\":[{\"name_course\":\"Physical Science Responsible Conduct of Research Course 1.\",\"status\":\"expired\"}],\"Dakota Pierce\":[{\"name_course\":\"Safety Practices and Procedures to Prevent Zoonotic Diseases While Working With Cattle\",\"status\":\"expired\"},{\"name_course\":\"Radioactive Materials Safety Training\",\"status\":\"expired\"}],\"Dalia King\":[{\"name_course\":\"Occupational Exposure to Bloodborne Pathogens\",\"status\":\"expired\"}],\"Damari Short\":[{\"name_course\":\"Retraining in working with the IACUC\",\"status\":\"expired\"}],\"Damaris Hess\":[{\"name_course\":\"X-Ray Safety\",\"status\":\"expired\"}],\"Damon Gaines\":[{\"name_course\":\"Working in Cold Temperatures\",\"status\":\"expired\"},{\"name_course\":\"OHS Training\",\"status\":\"expired\"}],\"Dania Parrish\":[{\"name_course\":\"Retraining in working with the IACUC\",\"status\":\"expired\"}],\"Daphne Hinton\":[{\"name_course\":\"Radiation Safety Annual Refresher\",\"status\":\"expires soon\"},{\"name_course\":\"Laboratory Safety Training\",\"status\":\"expired\"},{\"name_course\":\"Safe Handling of Human Cell Lines\\\\/Materials in a Research Laboratory\",\"status\":\"expired\"}],\"Darian Bean\":[{\"name_course\":\"Radiation Safety Annual Refresher\",\"status\":\"expired\"}],\"Darien Oconnor\":[{\"name_course\":\"Safe Handling of Human Cell Lines\\\\/Materials in a Research Laboratory\",\"status\":\"expires soon\"},{\"name_course\":\"X-Ray Safety\",\"status\":\"expired\"}],\"Dario Browning\":[{\"name_course\":\"IRB Quiz\",\"status\":\"expired\"}],\"Davion Pena\":[{\"name_course\":\"Retraining in working with the IACUC\",\"status\":\"expired\"}],\"Dawson Compton\":[{\"name_course\":\"Safety Practices and Procedures to Prevent Zoonotic Diseases While Working With Cattle\",\"status\":\"expired\"}],\"Dayana Costa\":[{\"name_course\":\"Radioactive Materials Safety Training\",\"status\":\"expired\"}],\"Dayanara Reynolds\":[{\"name_course\":\"Federally Required RCR Training - Must be delivered by PI (Not available online)\",\"status\":\"expired\"}],\"Deacon Hanson\":[{\"name_course\":\"X-Ray Safety\",\"status\":\"expired\"}],\"Denise Allen\":[{\"name_course\":\"Awareness Training for the Transport of Hazardous Material\",\"status\":\"expired\"},{\"name_course\":\"Understanding Biosafety\",\"status\":\"expired\"}],\"Denise Koch\":[{\"name_course\":\"Awareness Training for the Transport of Hazardous Material\",\"status\":\"expired\"}],\"Denisse Velazquez\":[{\"name_course\":\"OHS Training\",\"status\":\"expired\"}],\"Dennis Dunn\":[{\"name_course\":\"NIH Guidelines Overview\",\"status\":\"expired\"},{\"name_course\":\"Laboratory Safety Training\",\"status\":\"expired\"}],\"Destinee Odonnell\":[{\"name_course\":\"Basic Training Program for Animal Users\",\"status\":\"expired\"}],\"Diana Munoz\":[{\"name_course\":\"X-Ray Safety\",\"status\":\"expires soon\"},{\"name_course\":\"Medical Records\",\"status\":\"expired\"}],\"Eden Nash\":[{\"name_course\":\"Radioactive Materials Safety Training\",\"status\":\"expired\"}],\"Eileen Holder\":[{\"name_course\":\"Occupational Exposure to Bloodborne Pathogens\",\"status\":\"expired\"}],\"Eleanor Cooley\":[{\"name_course\":\"IRB Quiz\",\"status\":\"expired\"}],\"Elian Richmond\":[{\"name_course\":\"Medical Records\",\"status\":\"expires soon\"}],\"Elijah Marks\":[{\"name_course\":\"Radioactive Materials Safety Training\",\"status\":\"expires soon\"},{\"name_course\":\"Laboratory Safety Training\",\"status\":\"expired\"}],\"Elizabeth Esparza\":[{\"name_course\":\"Awareness Training for the Transport of Hazardous Material\",\"status\":\"expired\"}],\"Elvis Hester\":[{\"name_course\":\"Awareness Training for the Transport of Hazardous Material\",\"status\":\"expired\"}],\"Emilia Gardner\":[{\"name_course\":\"NIH Guidelines Overview\",\"status\":\"expires soon\"},{\"name_course\":\"Federally Required RCR Training - Must be delivered by PI (Not available online)\",\"status\":\"expired\"},{\"name_course\":\"DOT Hazard Material Awareness\",\"status\":\"expired\"},{\"name_course\":\"Chemical Waste Requirements\",\"status\":\"expired\"}],\"Emily Spence\":[{\"name_course\":\"Radioactive Materials Safety Training\",\"status\":\"expired\"}],\"Emmalee Collins\":[{\"name_course\":\"Medical Records\",\"status\":\"expired\"}],\"Emmett Sanchez\":[{\"name_course\":\"IRB Quiz\",\"status\":\"expired\"},{\"name_course\":\"Medical Records\",\"status\":\"expired\"}],\"Enrique Burke\":[{\"name_course\":\"Working in Cold Temperatures\",\"status\":\"expired\"}],\"Erin Swanson\":[{\"name_course\":\"Chemical Waste Requirements\",\"status\":\"expired\"}],\"Ethen Mathews\":[{\"name_course\":\"Retraining in working with the IACUC\",\"status\":\"expired\"}],\"Eve Sullivan\":[{\"name_course\":\"Chemical Waste Requirements\",\"status\":\"expired\"}],\"Ezra Powers\":[{\"name_course\":\"OHS Training\",\"status\":\"expires soon\"}],\"Fernanda Green\":[{\"name_course\":\"Occupational Exposure to Bloodborne Pathogens\",\"status\":\"expired\"}],\"Fernando Marks\":[{\"name_course\":\"Laboratory Safety Training\",\"status\":\"expired\"}],\"Finley Thornton\":[{\"name_course\":\"Understanding Biosafety\",\"status\":\"expired\"}],\"Frances Fields\":[{\"name_course\":\"DOT Hazard Material Awareness\",\"status\":\"expired\"}],\"Francis Sexton\":[{\"name_course\":\"Working in Cold Temperatures\",\"status\":\"expired\"}],\"Frankie Dennis\":[{\"name_course\":\"Radiation Safety Annual Refresher\",\"status\":\"expired\"}],\"Freddy Bullock\":[{\"name_course\":\"Understanding Biosafety\",\"status\":\"expired\"}],\"Frida Mosley\":[{\"name_course\":\"Understanding Biosafety\",\"status\":\"expired\"}],\"Gage Spence\":[{\"name_course\":\"Occupational Exposure to Bloodborne Pathogens\",\"status\":\"expired\"}],\"Garrett Mcneil\":[{\"name_course\":\"Laboratory Safety Training\",\"status\":\"expired\"}],\"Gemma Osborn\":[{\"name_course\":\"Federally Required RCR Training - Must be delivered by PI (Not available online)\",\"status\":\"expires soon\"},{\"name_course\":\"OHS Training\",\"status\":\"expired\"},{\"name_course\":\"Retraining in working with the IACUC\",\"status\":\"expired\"}],\"Geovanni Hess\":[{\"name_course\":\"Basic Training Program for Animal Users\",\"status\":\"expired\"}],\"Gerald Parsons\":[{\"name_course\":\"Federally Required RCR Training - Must be delivered by PI (Not available online)\",\"status\":\"expired\"}],\"Gillian Valdez\":[{\"name_course\":\"Radiation Safety Annual Refresher\",\"status\":\"expires soon\"}],\"Gina Sexton\":[{\"name_course\":\"Laboratory Safety Training\",\"status\":\"expired\"},{\"name_course\":\"Working in Cold Temperatures\",\"status\":\"expired\"}],\"Giovanny Gonzales\":[{\"name_course\":\"OHS Training\",\"status\":\"expired\"}],\"Giselle Oneal\":[{\"name_course\":\"Retraining in working with the IACUC\",\"status\":\"expired\"}],\"Gisselle Hooper\":[{\"name_course\":\"Working in Cold Temperatures\",\"status\":\"expired\"},{\"name_course\":\"DOT Hazard Material Awareness\",\"status\":\"expired\"},{\"name_course\":\"Federally Required RCR Training - Must be delivered by PI (Not available online)\",\"status\":\"expired\"}],\"Gretchen Boyer\":[{\"name_course\":\"Safe Handling of Human Cell Lines\\\\/Materials in a Research Laboratory\",\"status\":\"expired\"}],\"Hadassah Hampton\":[{\"name_course\":\"Laboratory Safety Training\",\"status\":\"expired\"}],\"Haley Malone\":[{\"name_course\":\"X-Ray Safety\",\"status\":\"expires soon\"},{\"name_course\":\"OHS Training\",\"status\":\"expired\"}],\"Harmony Lester\":[{\"name_course\":\"NIH Guidelines Overview\",\"status\":\"expired\"},{\"name_course\":\"Awareness Training for the Transport of Hazardous Material\",\"status\":\"expired\"}],\"Harper Peterson\":[{\"name_course\":\"Awareness Training for the Transport of Hazardous Material\",\"status\":\"expired\"}],\"Helena Weiss\":[{\"name_course\":\"NIH Guidelines Overview\",\"status\":\"expired\"}],\"Hillary Tyler\":[{\"name_course\":\"Physical Science Responsible Conduct of Research Course 1.\",\"status\":\"expired\"}],\"Holly Rosario\":[{\"name_course\":\"Radioactive Materials Safety Training\",\"status\":\"expired\"}],\"Immanuel Combs\":[{\"name_course\":\"Awareness Training for the Transport of Hazardous Material\",\"status\":\"expired\"},{\"name_course\":\"X-Ray Safety\",\"status\":\"expired\"}],\"Iris Aguilar\":[{\"name_course\":\"Safe Handling of Human Cell Lines\\\\/Materials in a Research Laboratory\",\"status\":\"expired\"}],\"Isla Watts\":[{\"name_course\":\"Working in Cold Temperatures\",\"status\":\"expired\"}],\"Jaden Wolfe\":[{\"name_course\":\"Using Hazardous Chemicals in an Animal Care Facility\",\"status\":\"expired\"}],\"Jadiel Ball\":[{\"name_course\":\"Using Hazardous Chemicals in an Animal Care Facility\",\"status\":\"expired\"}],\"Jadon Harrell\":[{\"name_course\":\"OHS Training\",\"status\":\"expired\"}],\"Jadon Villarreal\":[{\"name_course\":\"Understanding Biosafety\",\"status\":\"expired\"}],\"Jadyn Cuevas\":[{\"name_course\":\"Safety Practices and Procedures to Prevent Zoonotic Diseases While Working With Cattle\",\"status\":\"expired\"}],\"Jaida Faulkner\":[{\"name_course\":\"Occupational Exposure to Bloodborne Pathogens\",\"status\":\"expired\"}],\"Jake Gillespie\":[{\"name_course\":\"IRB Quiz\",\"status\":\"expired\"}],\"Jakobe Porter\":[{\"name_course\":\"Transportation of Infectious Substances, Category B\",\"status\":\"expired\"},{\"name_course\":\"Working in Cold Temperatures\",\"status\":\"expired\"},{\"name_course\":\"Occupational Exposure to Bloodborne Pathogens\",\"status\":\"expired\"}],\"Jamie Gay\":[{\"name_course\":\"Electrical Safety for Labs\",\"status\":\"expired\"}],\"Jamison Lawson\":[{\"name_course\":\"Medical Records\",\"status\":\"expired\"}],\"Jamiya Oconnell\":[{\"name_course\":\"Safety Practices and Procedures to Prevent Zoonotic Diseases While Working With Cattle\",\"status\":\"expired\"}],\"Janiyah Norris\":[{\"name_course\":\"Understanding Biosafety\",\"status\":\"expired\"}],\"Janiyah Vaughan\":[{\"name_course\":\"Using Hazardous Chemicals in an Animal Care Facility\",\"status\":\"expired\"},{\"name_course\":\"OHS Training\",\"status\":\"expired\"}],\"Jasmine Graham\":[{\"name_course\":\"Radioactive Materials Safety Training\",\"status\":\"expired\"}],\"Javion Ayers\":[{\"name_course\":\"Retraining in working with the IACUC\",\"status\":\"expires soon\"}],\"Jazmin Reynolds\":[{\"name_course\":\"Retraining in working with the IACUC\",\"status\":\"expires soon\"},{\"name_course\":\"Health Screening Questionnaire\",\"status\":\"expired\"}],\"Jazmine Alvarado\":[{\"name_course\":\"Electrical Safety for Labs\",\"status\":\"expired\"}],\"Jazmine Haynes\":[{\"name_course\":\"Safety Practices and Procedures to Prevent Zoonotic Diseases While Working With Cattle\",\"status\":\"expires soon\"}],\"Jean Preston\":[{\"name_course\":\"Federally Required RCR Training - Must be delivered by PI (Not available online)\",\"status\":\"expired\"}],\"Jeffery Kelly\":[{\"name_course\":\"Laboratory Safety Training\",\"status\":\"expired\"}],\"Jensen Brandt\":[{\"name_course\":\"Retraining in working with the IACUC\",\"status\":\"expired\"}],\"Jeramiah Rogers\":[{\"name_course\":\"NIH Guidelines Overview\",\"status\":\"expires soon\"}],\"Jerimiah Guerra\":[{\"name_course\":\"Federally Required RCR Training - Must be delivered by PI (Not available online)\",\"status\":\"expired\"},{\"name_course\":\"Retraining in working with the IACUC\",\"status\":\"expired\"}],\"Jessica Mcdaniel\":[{\"name_course\":\"Chemical Waste Requirements\",\"status\":\"expired\"}],\"Jessie Odom\":[{\"name_course\":\"X-Ray Safety\",\"status\":\"expired\"},{\"name_course\":\"Electrical Safety for Labs\",\"status\":\"expired\"}],\"John Montes\":[{\"name_course\":\"Basic Training Program for Animal Users\",\"status\":\"expired\"},{\"name_course\":\"Radioactive Materials Safety Training\",\"status\":\"expired\"}],\"Jolie Diaz\":[{\"name_course\":\"Radiation Safety Annual Refresher\",\"status\":\"expired\"}],\"Jon Chapman\":[{\"name_course\":\"Laboratory Safety Training\",\"status\":\"expired\"}],\"Jonathon Bradford\":[{\"name_course\":\"Retraining in working with the IACUC\",\"status\":\"expires soon\"},{\"name_course\":\"Basic Training Program for Animal Users\",\"status\":\"expired\"}],\"Juan Stafford\":[{\"name_course\":\"Federally Required RCR Training - Must be delivered by PI (Not available online)\",\"status\":\"expires soon\"},{\"name_course\":\"Basic Training Program for Animal Users\",\"status\":\"expired\"}],\"Julianna York\":[{\"name_course\":\"Retraining in working with the IACUC\",\"status\":\"expired\"},{\"name_course\":\"Radioactive Materials Safety Training\",\"status\":\"expired\"}],\"Julien Terrell\":[{\"name_course\":\"IRB Quiz\",\"status\":\"expired\"},{\"name_course\":\"Transportation of Infectious Substances, Category B\",\"status\":\"expired\"}],\"Julissa Bradford\":[{\"name_course\":\"Basic Training Program for Animal Users\",\"status\":\"expired\"}],\"Justice Quinn\":[{\"name_course\":\"Medical Records\",\"status\":\"expired\"}],\"Kaila Knapp\":[{\"name_course\":\"Health Screening Questionnaire\",\"status\":\"expired\"},{\"name_course\":\"Medical Records\",\"status\":\"expired\"}],\"Kailey Montgomery\":[{\"name_course\":\"OHS Training\",\"status\":\"expired\"},{\"name_course\":\"Laboratory Safety Training\",\"status\":\"expired\"}],\"Kaitlyn Orozco\":[{\"name_course\":\"Using Hazardous Chemicals in an Animal Care Facility\",\"status\":\"expired\"},{\"name_course\":\"Radiation Safety Annual Refresher\",\"status\":\"expired\"}],\"Kamila Mckenzie\":[{\"name_course\":\"Using Hazardous Chemicals in an Animal Care Facility\",\"status\":\"expired\"}],\"Kamron Tanner\":[{\"name_course\":\"NIH Guidelines Overview\",\"status\":\"expired\"},{\"name_course\":\"Safety Practices and Procedures to Prevent Zoonotic Diseases While Working With Cattle\",\"status\":\"expired\"}],\"Kamryn Bauer\":[{\"name_course\":\"Safe Handling of Human Cell Lines\\\\/Materials in a Research Laboratory\",\"status\":\"expired\"}],\"Kate Berry\":[{\"name_course\":\"NIH Guidelines Overview\",\"status\":\"expired\"}],\"Kathy Quinn\":[{\"name_course\":\"Medical Records\",\"status\":\"expired\"},{\"name_course\":\"Retraining in working with the IACUC\",\"status\":\"expired\"}],\"Kelly Munoz\":[{\"name_course\":\"Understanding Biosafety\",\"status\":\"expired\"}],\"Kennedi Wolf\":[{\"name_course\":\"Basic Training Program for Animal Users\",\"status\":\"expired\"},{\"name_course\":\"Safety Practices and Procedures to Prevent Zoonotic Diseases While Working With Cattle\",\"status\":\"expired\"},{\"name_course\":\"Retraining in working with the IACUC\",\"status\":\"expired\"},{\"name_course\":\"Radiation Safety Annual Refresher\",\"status\":\"expired\"}],\"Kenyon Estes\":[{\"name_course\":\"Health Screening Questionnaire\",\"status\":\"expired\"}],\"Kiersten Leon\":[{\"name_course\":\"Animal Care And Use Risk Assessment\",\"status\":\"expired\"}],\"Kingston Gay\":[{\"name_course\":\"Laboratory Safety Training\",\"status\":\"expired\"}],\"Kira Ramos\":[{\"name_course\":\"Laboratory Safety Training\",\"status\":\"expired\"},{\"name_course\":\"Safety Practices and Procedures to Prevent Zoonotic Diseases While Working With Cattle\",\"status\":\"expired\"}],\"Kristina Gay\":[{\"name_course\":\"OHS Training\",\"status\":\"expires soon\"},{\"name_course\":\"Animal Care And Use Risk Assessment\",\"status\":\"expired\"}],\"Kyla Walker\":[{\"name_course\":\"Safe Handling of Human Cell Lines\\\\/Materials in a Research Laboratory\",\"status\":\"expired\"}],\"Kyler Cardenas\":[{\"name_course\":\"Retraining in working with the IACUC\",\"status\":\"expired\"}],\"Kyson Orozco\":[{\"name_course\":\"Using Hazardous Chemicals in an Animal Care Facility\",\"status\":\"expired\"}],\"Lance Cowan\":[{\"name_course\":\"Federally Required RCR Training - Must be delivered by PI (Not available online)\",\"status\":\"expired\"}],\"Lance Mcfarland\":[{\"name_course\":\"Understanding Biosafety\",\"status\":\"expired\"}],\"Larry Rowe\":[{\"name_course\":\"Occupational Exposure to Bloodborne Pathogens\",\"status\":\"expired\"}],\"Laylah Hines\":[{\"name_course\":\"Chemical Waste Requirements\",\"status\":\"expired\"}],\"Leandro Krause\":[{\"name_course\":\"Occupational Exposure to Bloodborne Pathogens\",\"status\":\"expired\"}],\"Leland Nguyen\":[{\"name_course\":\"Radiation Safety Annual Refresher\",\"status\":\"expired\"}],\"Leticia Johnson\":[{\"name_course\":\"Working in Cold Temperatures\",\"status\":\"expired\"}],\"Lexie Ho\":[{\"name_course\":\"Awareness Training for the Transport of Hazardous Material\",\"status\":\"expired\"}],\"Lexie Mckinney\":[{\"name_course\":\"IRB Quiz\",\"status\":\"expired\"}],\"Lia Mosley\":[{\"name_course\":\"Understanding Biosafety\",\"status\":\"expired\"}],\"Liberty Miles\":[{\"name_course\":\"X-Ray Safety\",\"status\":\"expired\"},{\"name_course\":\"Retraining in working with the IACUC\",\"status\":\"expired\"}],\"Liliana Sanders\":[{\"name_course\":\"Retraining in working with the IACUC\",\"status\":\"expired\"}],\"Lilliana Olsen\":[{\"name_course\":\"Safe Handling of Human Cell Lines\\\\/Materials in a Research Laboratory\",\"status\":\"expired\"}],\"Lilyana Blackwell\":[{\"name_course\":\"Electrical Safety for Labs\",\"status\":\"expired\"}],\"Linda Romero\":[{\"name_course\":\"Laboratory Safety Training\",\"status\":\"expired\"}],\"Livia Burch\":[{\"name_course\":\"Electrical Safety for Labs\",\"status\":\"expired\"},{\"name_course\":\"Safety Practices and Procedures to Prevent Zoonotic Diseases While Working With Cattle\",\"status\":\"expired\"}],\"Livia Hayes\":[{\"name_course\":\"Federally Required RCR Training - Must be delivered by PI (Not available online)\",\"status\":\"expired\"},{\"name_course\":\"Understanding Biosafety\",\"status\":\"expired\"}],\"Lola Townsend\":[{\"name_course\":\"Health Screening Questionnaire\",\"status\":\"expired\"},{\"name_course\":\"X-Ray Safety\",\"status\":\"expired\"}],\"Lorenzo Delacruz\":[{\"name_course\":\"Safe Handling of Human Cell Lines\\\\/Materials in a Research Laboratory\",\"status\":\"expired\"}],\"Louis Burnett\":[{\"name_course\":\"Federally Required RCR Training - Must be delivered by PI (Not available online)\",\"status\":\"expired\"},{\"name_course\":\"Basic Training Program for Animal Users\",\"status\":\"expired\"},{\"name_course\":\"Medical Records\",\"status\":\"expired\"}],\"Lucas Fowler\":[{\"name_course\":\"Health Screening Questionnaire\",\"status\":\"expired\"}],\"Lucy Duarte\":[{\"name_course\":\"Federally Required RCR Training - Must be delivered by PI (Not available online)\",\"status\":\"expired\"}],\"Lucy Dunn\":[{\"name_course\":\"Understanding Biosafety\",\"status\":\"expired\"}],\"Lukas Riggs\":[{\"name_course\":\"Physical Science Responsible Conduct of Research Course 1.\",\"status\":\"expired\"}],\"Mackenzie Parrish\":[{\"name_course\":\"Occupational Exposure to Bloodborne Pathogens\",\"status\":\"expired\"}],\"Madeline Davila\":[{\"name_course\":\"Occupational Exposure to Bloodborne Pathogens\",\"status\":\"expired\"},{\"name_course\":\"Transportation of Infectious Substances, Category B\",\"status\":\"expired\"}],\"Madisyn Wiggins\":[{\"name_course\":\"Medical Records\",\"status\":\"expired\"},{\"name_course\":\"Health Screening Questionnaire\",\"status\":\"expired\"}],\"Maggie Vincent\":[{\"name_course\":\"Safety Practices and Procedures to Prevent Zoonotic Diseases While Working With Cattle\",\"status\":\"expires soon\"},{\"name_course\":\"X-Ray Safety\",\"status\":\"expired\"}],\"Makaila Hood\":[{\"name_course\":\"Radioactive Materials Safety Training\",\"status\":\"expired\"}],\"Makenzie Pollard\":[{\"name_course\":\"Understanding Biosafety\",\"status\":\"expired\"}],\"Mara Holland\":[{\"name_course\":\"Electrical Safety for Labs\",\"status\":\"expired\"},{\"name_course\":\"Safe Handling of Human Cell Lines\\\\/Materials in a Research Laboratory\",\"status\":\"expired\"}],\"Mara Roy\":[{\"name_course\":\"Federally Required RCR Training - Must be delivered by PI (Not available online)\",\"status\":\"expired\"}],\"Marcus Tanner\":[{\"name_course\":\"Retraining in working with the IACUC\",\"status\":\"expired\"}],\"Marie Boone\":[{\"name_course\":\"Radiation Safety Annual Refresher\",\"status\":\"expired\"}],\"Mario Wiggins\":[{\"name_course\":\"Safety Practices and Procedures to Prevent Zoonotic Diseases While Working With Cattle\",\"status\":\"expired\"}],\"Marisol Cooper\":[{\"name_course\":\"Safety Practices and Procedures to Prevent Zoonotic Diseases While Working With Cattle\",\"status\":\"expired\"},{\"name_course\":\"X-Ray Safety\",\"status\":\"expired\"},{\"name_course\":\"Animal Care And Use Risk Assessment\",\"status\":\"expired\"}],\"Maritza Cervantes\":[{\"name_course\":\"Retraining in working with the IACUC\",\"status\":\"expired\"}],\"Maritza Ryan\":[{\"name_course\":\"Safe Handling of Human Cell Lines\\\\/Materials in a Research Laboratory\",\"status\":\"expired\"}],\"Mark Griffith\":[{\"name_course\":\"Retraining in working with the IACUC\",\"status\":\"expired\"}],\"Marlon Baker\":[{\"name_course\":\"Retraining in working with the IACUC\",\"status\":\"expired\"},{\"name_course\":\"Chemical Waste Requirements\",\"status\":\"expired\"}],\"Marquis Forbes\":[{\"name_course\":\"Occupational Exposure to Bloodborne Pathogens\",\"status\":\"expired\"}],\"Marshall Hutchinson\":[{\"name_course\":\"IRB Quiz\",\"status\":\"expired\"}],\"Martha Robinson\":[{\"name_course\":\"Medical Records\",\"status\":\"expired\"}],\"Martin Dean\":[{\"name_course\":\"Animal Care And Use Risk Assessment\",\"status\":\"expires soon\"},{\"name_course\":\"Physical Science Responsible Conduct of Research Course 1.\",\"status\":\"expired\"},{\"name_course\":\"Transportation of Infectious Substances, Category B\",\"status\":\"expired\"}],\"Matias Oconnell\":[{\"name_course\":\"Using Hazardous Chemicals in an Animal Care Facility\",\"status\":\"expired\"}],\"Matilda Alvarado\":[{\"name_course\":\"Safe Handling of Human Cell Lines\\\\/Materials in a Research Laboratory\",\"status\":\"expired\"}],\"Max Andrade\":[{\"name_course\":\"Animal Care And Use Risk Assessment\",\"status\":\"expired\"}],\"Maximilian Humphrey\":[{\"name_course\":\"Radioactive Materials Safety Training\",\"status\":\"expired\"}],\"Maximo Bush\":[{\"name_course\":\"Using Hazardous Chemicals in an Animal Care Facility\",\"status\":\"expires soon\"}],\"Melissa Flores\":[{\"name_course\":\"Using Hazardous Chemicals in an Animal Care Facility\",\"status\":\"expired\"}],\"Melody Mosley\":[{\"name_course\":\"Safe Handling of Human Cell Lines\\\\/Materials in a Research Laboratory\",\"status\":\"expired\"}],\"Mercedes Page\":[{\"name_course\":\"Working in Cold Temperatures\",\"status\":\"expired\"}],\"Miah Burnett\":[{\"name_course\":\"Awareness Training for the Transport of Hazardous Material\",\"status\":\"expired\"}],\"Micah Barrera\":[{\"name_course\":\"Understanding Biosafety\",\"status\":\"expired\"},{\"name_course\":\"Chemical Waste Requirements\",\"status\":\"expired\"}],\"Micheal Cannon\":[{\"name_course\":\"Health Screening Questionnaire\",\"status\":\"expired\"}],\"Mila Baird\":[{\"name_course\":\"Transportation of Infectious Substances, Category B\",\"status\":\"expired\"}],\"Milagros Montes\":[{\"name_course\":\"IRB Quiz\",\"status\":\"expired\"},{\"name_course\":\"Federally Required RCR Training - Must be delivered by PI (Not available online)\",\"status\":\"expired\"}],\"Mina Hatfield\":[{\"name_course\":\"Safe Handling of Human Cell Lines\\\\/Materials in a Research Laboratory\",\"status\":\"expired\"}],\"Misael Irwin\":[{\"name_course\":\"Transportation of Infectious Substances, Category B\",\"status\":\"expired\"},{\"name_course\":\"Occupational Exposure to Bloodborne Pathogens\",\"status\":\"expired\"}],\"Misael Sawyer\":[{\"name_course\":\"Safety Practices and Procedures to Prevent Zoonotic Diseases While Working With Cattle\",\"status\":\"expired\"},{\"name_course\":\"Health Screening Questionnaire\",\"status\":\"expired\"}],\"Misael Wall\":[{\"name_course\":\"Laboratory Safety Training\",\"status\":\"expired\"}],\"Mohammed Michael\":[{\"name_course\":\"Awareness Training for the Transport of Hazardous Material\",\"status\":\"expired\"}],\"Molly Singh\":[{\"name_course\":\"Electrical Safety for Labs\",\"status\":\"expired\"}],\"Nadia Dominguez\":[{\"name_course\":\"Laboratory Safety Training\",\"status\":\"expired\"},{\"name_course\":\"Awareness Training for the Transport of Hazardous Material\",\"status\":\"expired\"}],\"Nathanial Leonard\":[{\"name_course\":\"Federally Required RCR Training - Must be delivered by PI (Not available online)\",\"status\":\"expired\"}],\"Nayeli Mcfarland\":[{\"name_course\":\"Federally Required RCR Training - Must be delivered by PI (Not available online)\",\"status\":\"expires soon\"}],\"Nikhil Henderson\":[{\"name_course\":\"X-Ray Safety\",\"status\":\"expired\"}],\"Niko Maldonado\":[{\"name_course\":\"Using Hazardous Chemicals in an Animal Care Facility\",\"status\":\"expired\"}],\"Noe Boyle\":[{\"name_course\":\"Chemical Waste Requirements\",\"status\":\"expired\"}],\"Norah Huber\":[{\"name_course\":\"OHS Training\",\"status\":\"expired\"},{\"name_course\":\"Federally Required RCR Training - Must be delivered by PI (Not available online)\",\"status\":\"expired\"}],\"Norah Villegas\":[{\"name_course\":\"Federally Required RCR Training - Must be delivered by PI (Not available online)\",\"status\":\"expired\"}],\"Nyla Rose\":[{\"name_course\":\"X-Ray Safety\",\"status\":\"expired\"},{\"name_course\":\"Transportation of Infectious Substances, Category B\",\"status\":\"expired\"}],\"Oswaldo Gould\":[{\"name_course\":\"DOT Hazard Material Awareness\",\"status\":\"expired\"}],\"Paxton Marsh\":[{\"name_course\":\"Transportation of Infectious Substances, Category B\",\"status\":\"expired\"}],\"Penelope Whitney\":[{\"name_course\":\"Animal Care And Use Risk Assessment\",\"status\":\"expired\"}],\"Randall Marsh\":[{\"name_course\":\"Radioactive Materials Safety Training\",\"status\":\"expired\"}],\"Raquel Dunn\":[{\"name_course\":\"Retraining in working with the IACUC\",\"status\":\"expired\"}],\"Rayan Valencia\":[{\"name_course\":\"Laboratory Safety Training\",\"status\":\"expired\"}],\"Regan Holloway\":[{\"name_course\":\"IRB Quiz\",\"status\":\"expired\"},{\"name_course\":\"Radiation Safety Annual Refresher\",\"status\":\"expired\"}],\"Reginald Rogers\":[{\"name_course\":\"Using Hazardous Chemicals in an Animal Care Facility\",\"status\":\"expired\"}],\"Reid Arias\":[{\"name_course\":\"Medical Records\",\"status\":\"expired\"},{\"name_course\":\"Awareness Training for the Transport of Hazardous Material\",\"status\":\"expired\"}],\"Rene Gardner\":[{\"name_course\":\"Radioactive Materials Safety Training\",\"status\":\"expired\"}],\"Reynaldo Kidd\":[{\"name_course\":\"DOT Hazard Material Awareness\",\"status\":\"expired\"}],\"Rhys Gay\":[{\"name_course\":\"Safety Practices and Procedures to Prevent Zoonotic Diseases While Working With Cattle\",\"status\":\"expired\"}],\"Ricardo Barber\":[{\"name_course\":\"Retraining in working with the IACUC\",\"status\":\"expires soon\"}],\"Robert Daugherty\":[{\"name_course\":\"Basic Training Program for Animal Users\",\"status\":\"expired\"}],\"Rolando Franco\":[{\"name_course\":\"Animal Care And Use Risk Assessment\",\"status\":\"expired\"}],\"Rolando Mclean\":[{\"name_course\":\"Using Hazardous Chemicals in an Animal Care Facility\",\"status\":\"expires soon\"}],\"Rolando Schmitt\":[{\"name_course\":\"Laboratory Safety Training\",\"status\":\"expired\"},{\"name_course\":\"Using Hazardous Chemicals in an Animal Care Facility\",\"status\":\"expired\"}],\"Rolando Shelton\":[{\"name_course\":\"Occupational Exposure to Bloodborne Pathogens\",\"status\":\"expired\"}],\"Roman Moyer\":[{\"name_course\":\"Health Screening Questionnaire\",\"status\":\"expired\"}],\"Rory Leonard\":[{\"name_course\":\"Awareness Training for the Transport of Hazardous Material\",\"status\":\"expired\"},{\"name_course\":\"OHS Training\",\"status\":\"expired\"},{\"name_course\":\"Radiation Safety Annual Refresher\",\"status\":\"expired\"}],\"Rubi Klein\":[{\"name_course\":\"Chemical Waste Requirements\",\"status\":\"expired\"},{\"name_course\":\"Understanding Biosafety\",\"status\":\"expired\"}],\"Sage Rosales\":[{\"name_course\":\"Radiation Safety Annual Refresher\",\"status\":\"expires soon\"}],\"Salvatore Mckay\":[{\"name_course\":\"Retraining in working with the IACUC\",\"status\":\"expired\"}],\"Samara Tran\":[{\"name_course\":\"Health Screening Questionnaire\",\"status\":\"expires soon\"},{\"name_course\":\"Radioactive Materials Safety Training\",\"status\":\"expired\"}],\"Santos Haas\":[{\"name_course\":\"Health Screening Questionnaire\",\"status\":\"expired\"}],\"Sara Gilmore\":[{\"name_course\":\"Using Hazardous Chemicals in an Animal Care Facility\",\"status\":\"expired\"}],\"Sierra Watkins\":[{\"name_course\":\"DOT Hazard Material Awareness\",\"status\":\"expires soon\"}],\"Skyla Lang\":[{\"name_course\":\"Basic Training Program for Animal Users\",\"status\":\"expired\"}],\"Sonia Bowman\":[{\"name_course\":\"DOT Hazard Material Awareness\",\"status\":\"expired\"}],\"Sophie Rasmussen\":[{\"name_course\":\"OHS Training\",\"status\":\"expired\"}],\"Talia Jacobson\":[{\"name_course\":\"Using Hazardous Chemicals in an Animal Care Facility\",\"status\":\"expired\"}],\"Tamara Livingston\":[{\"name_course\":\"Laboratory Safety Training\",\"status\":\"expires soon\"},{\"name_course\":\"Safety Practices and Procedures to Prevent Zoonotic Diseases While Working With Cattle\",\"status\":\"expired\"}],\"Tate Morgan\":[{\"name_course\":\"Radioactive Materials Safety Training\",\"status\":\"expired\"}],\"Teagan French\":[{\"name_course\":\"Awareness Training for the Transport of Hazardous Material\",\"status\":\"expired\"}],\"Teagan Nielsen\":[{\"name_course\":\"Basic Training Program for Animal Users\",\"status\":\"expired\"}],\"Thaddeus Koch\":[{\"name_course\":\"Health Screening Questionnaire\",\"status\":\"expired\"}],\"Tiana Barron\":[{\"name_course\":\"Working in Cold Temperatures\",\"status\":\"expired\"},{\"name_course\":\"Retraining in working with the IACUC\",\"status\":\"expired\"}],\"Tiara Waters\":[{\"name_course\":\"Medical Records\",\"status\":\"expired\"},{\"name_course\":\"Federally Required RCR Training - Must be delivered by PI (Not available online)\",\"status\":\"expired\"}],\"Toby Sullivan\":[{\"name_course\":\"Understanding Biosafety\",\"status\":\"expired\"}],\"Travis Bowers\":[{\"name_course\":\"Radiation Safety Annual Refresher\",\"status\":\"expired\"}],\"Trent Bernard\":[{\"name_course\":\"Occupational Exposure to Bloodborne Pathogens\",\"status\":\"expired\"}],\"Trinity Anthony\":[{\"name_course\":\"Using Hazardous Chemicals in an Animal Care Facility\",\"status\":\"expired\"}],\"Tristian Myers\":[{\"name_course\":\"Retraining in working with the IACUC\",\"status\":\"expired\"}],\"Urijah Travis\":[{\"name_course\":\"Working in Cold Temperatures\",\"status\":\"expires soon\"},{\"name_course\":\"Using Hazardous Chemicals in an Animal Care Facility\",\"status\":\"expired\"}],\"Valentina Nichols\":[{\"name_course\":\"Transportation of Infectious Substances, Category B\",\"status\":\"expired\"}],\"Vance Stout\":[{\"name_course\":\"Transportation of Infectious Substances, Category B\",\"status\":\"expired\"},{\"name_course\":\"Safety Practices and Procedures to Prevent Zoonotic Diseases While Working With Cattle\",\"status\":\"expired\"}],\"Vicente Alvarez\":[{\"name_course\":\"Occupational Exposure to Bloodborne Pathogens\",\"status\":\"expired\"}],\"Walker Wall\":[{\"name_course\":\"Working in Cold Temperatures\",\"status\":\"expired\"}],\"Wayne Howell\":[{\"name_course\":\"X-Ray Safety\",\"status\":\"expired\"},{\"name_course\":\"Chemical Waste Requirements\",\"status\":\"expired\"}],\"Wendy Bradshaw\":[{\"name_course\":\"Animal Care And Use Risk Assessment\",\"status\":\"expires soon\"},{\"name_course\":\"Working in Cold Temperatures\",\"status\":\"expired\"}],\"Yael Cummings\":[{\"name_course\":\"Transportation of Infectious Substances, Category B\",\"status\":\"expired\"},{\"name_course\":\"Animal Care And Use Risk Assessment\",\"status\":\"expired\"}],\"Yael Strickland\":[{\"name_course\":\"Awareness Training for the Transport of Hazardous Material\",\"status\":\"expired\"}],\"Yandel Shields\":[{\"name_course\":\"Health Screening Questionnaire\",\"status\":\"expires soon\"}],\"Zackary Barajas\":[{\"name_course\":\"Radiation Safety Annual Refresher\",\"status\":\"expired\"}],\"Zavier Maldonado\":[{\"name_course\":\"DOT Hazard Material Awareness\",\"status\":\"expired\"}],\"Zavier Wiggins\":[{\"name_course\":\"Radioactive Materials Safety Training\",\"status\":\"expired\"}],\"Zion Werner\":[{\"name_course\":\"Safe Handling of Human Cell Lines\\\\/Materials in a Research Laboratory\",\"status\":\"expired\"},{\"name_course\":\"OHS Training\",\"status\":\"expired\"},{\"name_course\":\"Medical Records\",\"status\":\"expired\"}]}'"
      ]
     },
     "execution_count": 179,
     "metadata": {},
     "output_type": "execute_result"
    }
   ],
   "source": [
    "find_expiring_trainings(df_data, '10/1/2023')"
   ]
  }
 ],
 "metadata": {
  "kernelspec": {
   "display_name": "Python 3",
   "language": "python",
   "name": "python3"
  },
  "language_info": {
   "codemirror_mode": {
    "name": "ipython",
    "version": 3
   },
   "file_extension": ".py",
   "mimetype": "text/x-python",
   "name": "python",
   "nbconvert_exporter": "python",
   "pygments_lexer": "ipython3",
   "version": "3.7.4"
  }
 },
 "nbformat": 4,
 "nbformat_minor": 2
}
